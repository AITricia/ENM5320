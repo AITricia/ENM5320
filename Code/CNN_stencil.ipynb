{
  "nbformat": 4,
  "nbformat_minor": 0,
  "metadata": {
    "colab": {
      "provenance": [],
      "gpuType": "T4",
      "authorship_tag": "ABX9TyPKCe5Tmt7lMac747jFeioc",
      "include_colab_link": true
    },
    "kernelspec": {
      "name": "python3",
      "display_name": "Python 3"
    },
    "language_info": {
      "name": "python"
    },
    "accelerator": "GPU"
  },
  "cells": [
    {
      "cell_type": "markdown",
      "metadata": {
        "id": "view-in-github",
        "colab_type": "text"
      },
      "source": [
        "<a href=\"https://colab.research.google.com/github/natrask/ENM5320/blob/main/Code/CNN_stencil.ipynb\" target=\"_parent\"><img src=\"https://colab.research.google.com/assets/colab-badge.svg\" alt=\"Open In Colab\"/></a>"
      ]
    },
    {
      "cell_type": "code",
      "execution_count": 26,
      "metadata": {
        "id": "gmZ9U8QwJBTD",
        "colab": {
          "base_uri": "https://localhost:8080/"
        },
        "outputId": "9ca115f2-49ba-47f5-a52b-3cdff46b842b"
      },
      "outputs": [
        {
          "output_type": "execute_result",
          "data": {
            "text/plain": [
              "tensor([-0.0036, -0.0337, -0.1221, -0.2629, -0.4470, -0.6623, -0.8947, -1.1291,\n",
              "        -1.3501, -1.5432, -1.6958, -1.7980, -1.8430, -1.8279, -1.7537, -1.6253,\n",
              "        -1.4509, -1.2422, -1.0126, -0.7773, -0.5516, -0.3502, -0.1864, -0.0709,\n",
              "        -0.0112, -0.0112, -0.0709, -0.1864, -0.3502, -0.5516, -0.7773, -1.0126,\n",
              "        -1.2422, -1.4509, -1.6253, -1.7537, -1.8279, -1.8430, -1.7980, -1.6958,\n",
              "        -1.5432, -1.3501, -1.1291, -0.8947, -0.6623, -0.4470, -0.2629, -0.1221,\n",
              "        -0.0337, -0.0036], dtype=torch.float64, grad_fn=<CopySlices>)"
            ]
          },
          "metadata": {},
          "execution_count": 26
        }
      ],
      "source": [
        "import torch\n",
        "import torch.nn as nn\n",
        "import torch.optim as optim\n",
        "import numpy as np\n",
        "import matplotlib.pyplot as plt\n",
        "\n",
        "# Define the model (in our case, its y = A*x + b)\n",
        "class FiniteDifferenceOperator(nn.Module):\n",
        "    def __init__(self,Nleft,Nright):\n",
        "        super(FiniteDifferenceOperator, self).__init__()\n",
        "        # Number of total nodes in finite difference stencils\n",
        "        self.Nstencil = Nleft + Nright + 1\n",
        "        self.Nleft = Nleft\n",
        "        self.Nright = Nright\n",
        "\n",
        "        # Initialize with random coefficients\n",
        "        self.stencil = torch.nn.Parameter(torch.randn(self.Nstencil, dtype=torch.float64))\n",
        "        # self.stencil = torch.from_numpy((0.5/dx)*np.array([1,0,-1]))\n",
        "\n",
        "        # Initialize CNN layer\n",
        "        self.cnn = nn.Conv1d(1, 1, kernel_size=self.Nstencil, bias=False, padding='same', dtype=torch.float64)  # padding='same' for periodic BC\n",
        "        self.cnn.weight.data = self.stencil.view(1, 1, -1)  # Reshape stencil to match weight shape\n",
        "\n",
        "\n",
        "\n",
        "    def forward(self, x):\n",
        "        # Apply the finite difference stencil to the gridfunction x, assuming periodic BC\n",
        "        N_nodes = x.shape[0]\n",
        "        f_out = torch.zeros_like(x)\n",
        "        for i in range(N_nodes):\n",
        "          # Wrap indices periodically using the modulo operator (%)\n",
        "          indices = [(i + j - self.Nleft) % (N_nodes-1) for j in range(self.Nstencil)]\n",
        "\n",
        "          # Grab solution at indices\n",
        "          xstencil = x[indices].unsqueeze(0).unsqueeze(0)\n",
        "          cnn_output = self.cnn(xstencil).squeeze().squeeze()\n",
        "\n",
        "          # Apply stencil\n",
        "          f_out[i] = torch.sum(cnn_output * xstencil)\n",
        "\n",
        "        return f_out\n",
        "\n",
        "\n",
        "# Parameters\n",
        "L = 2.0*np.pi  # Length of the domain\n",
        "T = np.pi   # Total time\n",
        "nx = 50  # Number of spatial points\n",
        "nt = 50  # Number of time steps\n",
        "\n",
        "# Discretization\n",
        "dx = L / nx\n",
        "dt = T / nt\n",
        "x = np.linspace(0, L, nx)\n",
        "u = torch.from_numpy(np.sin(2 * np.pi * x / L))  # Initial condition\n",
        "uexact = np.sin(2 * np.pi * (x-T) / L)  # Exact solution\n",
        "Dx = FiniteDifferenceOperator(1,1)  # Finite difference operator w a neighbor on either side\n",
        "\n",
        "def uexact(x,t):\n",
        "  return torch.from_numpy(np.sin(2 * np.pi * (x-t) / L))\n",
        "un = uexact(x,0)\n",
        "Dx(un)\n",
        "# plt.plot(Dx(un).detach().numpy())\n"
      ]
    },
    {
      "cell_type": "code",
      "source": [
        "Dx(un)"
      ],
      "metadata": {
        "id": "LH9nY4IALs7f",
        "colab": {
          "base_uri": "https://localhost:8080/"
        },
        "outputId": "3668470f-cc6a-482a-819b-15902b4603b2"
      },
      "execution_count": 27,
      "outputs": [
        {
          "output_type": "execute_result",
          "data": {
            "text/plain": [
              "tensor([-0.0036, -0.0337, -0.1221, -0.2629, -0.4470, -0.6623, -0.8947, -1.1291,\n",
              "        -1.3501, -1.5432, -1.6958, -1.7980, -1.8430, -1.8279, -1.7537, -1.6253,\n",
              "        -1.4509, -1.2422, -1.0126, -0.7773, -0.5516, -0.3502, -0.1864, -0.0709,\n",
              "        -0.0112, -0.0112, -0.0709, -0.1864, -0.3502, -0.5516, -0.7773, -1.0126,\n",
              "        -1.2422, -1.4509, -1.6253, -1.7537, -1.8279, -1.8430, -1.7980, -1.6958,\n",
              "        -1.5432, -1.3501, -1.1291, -0.8947, -0.6623, -0.4470, -0.2629, -0.1221,\n",
              "        -0.0337, -0.0036], dtype=torch.float64, grad_fn=<CopySlices>)"
            ]
          },
          "metadata": {},
          "execution_count": 27
        }
      ]
    },
    {
      "cell_type": "code",
      "source": [],
      "metadata": {
        "id": "cSSATRZAFtni"
      },
      "execution_count": null,
      "outputs": []
    }
  ]
}