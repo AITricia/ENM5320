{
 "cells": [
  {
   "cell_type": "code",
   "execution_count": null,
   "metadata": {},
   "outputs": [],
   "source": []
  },
  {
   "cell_type": "code",
   "execution_count": 1,
   "metadata": {},
   "outputs": [],
   "source": [
    "\n",
    "import torch\n",
    "import torch.nn as nn\n",
    "import torch.optim as optim\n",
    "import numpy as np\n",
    "import matplotlib.pyplot as plt\n"
   ]
  },
  {
   "cell_type": "code",
   "execution_count": null,
   "metadata": {},
   "outputs": [],
   "source": [
    "# Define the model\n",
    "class FiniteDifferenceOperator(nn.Module):\n",
    "    def __init__(self,Nleft,Nright,num_layers, hidden_dim):\n",
    "        super(FiniteDifferenceOperator, self).__init__()\n",
    "        # Number of total nodes in finite difference stencils\n",
    "        self.Nstencil = Nleft + Nright + 1\n",
    "        self.Nleft = Nleft\n",
    "        self.Nright = Nright\n",
    "\n",
    "        # Define a learnable finite difference stencil\n",
    "        self.stencil = torch.nn.Parameter(torch.randn(self.Nstencil))\n",
    "\n",
    "        # Define a MLP to model the nonlinearity\n",
    "        self.mlp = nn.Sequential(\n",
    "            nn.Linear(1, 64),\n",
    "            nn.ReLU(),\n",
    "            nn.Linear(64, 64),\n",
    "            nn.ReLU(),\n",
    "            nn.Linear(64, Nstencil)\n",
    "        )\n",
    "    def forward(self, x, h):\n",
    "        # Apply the finite difference stencil to the gridfunction x, assuming periodic BC\n",
    "        N_nodes = x.shape[0]\n",
    "        Dh_x = torch.zeros_like(x)\n",
    "\n",
    "        # Enforce sum of stencil entries are zero\n",
    "        self.stencil[-1] = -torch.sum(self.stencil[:-1])\n",
    "\n",
    "        # Goal - build up D^* grad(N[D x])\n",
    "\n",
    "        # Step 1 - apply D stencil to x \n",
    "        for i in range(N_nodes):\n",
    "          # Wrap indices periodically using the modulo operator (%)\n",
    "          indices = [(i + j - self.Nleft) % (N_nodes-1) for j in range(self.Nstencil)]\n",
    "\n",
    "          # Grab solution at indices\n",
    "          xstencil = x[indices]\n",
    "\n",
    "          # Apply learned stencil to xstencil\n",
    "          Dh_x[i] = torch.sum(self.stencil * xstencil)\n",
    "\n",
    "        # Step 2 - calculate gradient of mlp applied to Dh_x\n",
    "        f_out = self.mlp(Dh_x.unsqueeze(1))\n",
    "        \n",
    "     \n",
    "        # Return stencil applied to current state consisting of nonlinearity and stabilizing diffusion\n",
    "        return f_out"
   ]
  },
  {
   "cell_type": "code",
   "execution_count": null,
   "metadata": {},
   "outputs": [],
   "source": []
  }
 ],
 "metadata": {
  "kernelspec": {
   "display_name": "base",
   "language": "python",
   "name": "python3"
  },
  "language_info": {
   "codemirror_mode": {
    "name": "ipython",
    "version": 3
   },
   "file_extension": ".py",
   "mimetype": "text/x-python",
   "name": "python",
   "nbconvert_exporter": "python",
   "pygments_lexer": "ipython3",
   "version": "3.12.7"
  }
 },
 "nbformat": 4,
 "nbformat_minor": 2
}
