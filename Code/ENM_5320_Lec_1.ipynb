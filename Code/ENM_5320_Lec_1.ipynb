{
 "cells": [
  {
   "cell_type": "code",
   "execution_count": 15,
   "metadata": {
    "id": "vKNiIFVudCHj"
   },
   "outputs": [],
   "source": [
    "import numpy as np\n",
    "import matplotlib.pyplot as plt\n",
    "import torch\n",
    "import torch.nn as nn\n",
    "import torch.optim as optim"
   ]
  },
  {
   "cell_type": "code",
   "execution_count": 35,
   "metadata": {
    "colab": {
     "base_uri": "https://localhost:8080/",
     "height": 430
    },
    "id": "f_AQZOFEdIzw",
    "outputId": "bfabd2b2-90a9-4582-a975-cf356c397bfe"
   },
   "outputs": [
    {
     "data": {
      "image/png": "[encoded data removed]",
      "text/plain": [
       "<Figure size 640x480 with 1 Axes>"
      ]
     },
     "metadata": {},
     "output_type": "display_data"
    }
   ],
   "source": [
    "N=200\n",
    "x=torch.linspace(0,10,N)\n",
    "y=4*x+torch.randn(N)\n",
    "plt.plot(x,y,'o')\n",
    "plt.show()"
   ]
  },
  {
   "cell_type": "code",
   "execution_count": 37,
   "metadata": {
    "id": "feRvJUnQw4ac"
   },
   "outputs": [],
   "source": [
    "N_train=int(0.8*N)\n",
    "idx=torch.randperm(N)\n",
    "x=x[idx]\n",
    "y=y[idx]\n",
    "x_train=x[:N_train]\n",
    "y_train=y[:N_train]\n",
    "x_test=x[N_train:]\n",
    "y_test=y[N_train:]"
   ]
  },
  {
   "cell_type": "markdown",
   "metadata": {
    "id": "FNPJ9V42uwWG"
   },
   "source": [
    "# MLE\n",
    "\n",
    "$$ L(y;x) = \\underset{i=1}{\\Pi^{N_{data}}} \\mathcal{N}(y_i;\\mu(x_i),\\sigma^2)$$\n",
    "$$\\mu(x) = \\sum_\\alpha c_\\alpha P^\\alpha(x)$$\n",
    "$$ \\mathcal{L} = -\\log L = C +  N_{data} \\log{\\sigma}^{-\\frac12} + \\sum_{i=1}^{N_{data}} \\frac{(y_i - \\mu_i)^2}{2 \\sigma^2}  $$\n",
    "Taking the variation of the loss $\\mathcal{L}$ with respect to $c_\\alpha$ and $\\sigma$ gives an explicit formula for the minimal loss as a least squares problem.\n",
    "\n",
    "$$\\sum_{i=1}^{N_{data}} P^\\alpha(x_i) P^\\beta(x_i) c_\\beta = \\sum_{i=1}^{N_{data}} P^\\alpha(x_i) y_i$$"
   ]
  },
  {
   "cell_type": "markdown",
   "metadata": {},
   "source": [
    "First, construct the basis P = [1,x] evaluated on the data points"
   ]
  },
  {
   "cell_type": "code",
   "execution_count": null,
   "metadata": {},
   "outputs": [],
   "source": [
    "Pbasis = torch.stack([torch.ones_like(x), x], dim=1)"
   ]
  },
  {
   "cell_type": "markdown",
   "metadata": {},
   "source": [
    "Next, build up the normal equations matrix and RHS by performing a tensor contraction over the data. We can use einsum to do this easily."
   ]
  },
  {
   "cell_type": "code",
   "execution_count": null,
   "metadata": {},
   "outputs": [],
   "source": [
    "Nmatrix = torch.einsum('ij,ik->ij', Pbasis, Pbasis)\n",
    "rhs = torch.einsum('ij,i->j', Pbasis, y_train)"
   ]
  },
  {
   "cell_type": "markdown",
   "metadata": {},
   "source": [
    "Finally, we can use a direct solve to get the polynomial coefficients and plot the solution."
   ]
  },
  {
   "cell_type": "code",
   "execution_count": null,
   "metadata": {},
   "outputs": [],
   "source": [
    "coeffs = torch.solve(rhs, Nmatrix).solution\n",
    "print(coeffs)"
   ]
  },
  {
   "cell_type": "markdown",
   "metadata": {},
   "source": [
    "Taking the variation with respect to $\\sigma$ we get the following expression for the variance (you might recognize this as the empirical variance).\n",
    "$$\\sigma^2 = \\frac{\\sum_i (y_i - \\mu_i)^2}{N_{data}}$$"
   ]
  },
  {
   "cell_type": "code",
   "execution_count": null,
   "metadata": {},
   "outputs": [],
   "source": [
    "variance = torch.mean((torch.einsum('ij,j->i', Pbasis, coeffs) - y_train)**2)"
   ]
  },
  {
   "cell_type": "markdown",
   "metadata": {},
   "source": [
    "We can finally postprocess the solution with error bars to visualize the uncertainty."
   ]
  },
  {
   "cell_type": "code",
   "execution_count": null,
   "metadata": {},
   "outputs": [],
   "source": [
    "yfit = torch.einsum('ij,j->i', Pbasis, coeffs)\n",
    "std_dev = torch.sqrt(variance)\n",
    "\n",
    "plt.errorbar(x_train, y_train, yerr=std_dev, fmt='o', label='Data with error bars')\n",
    "plt.plot(x_train, yfit, label='Fitted line')\n",
    "plt.xlabel('x')\n",
    "plt.ylabel('y')\n",
    "plt.legend()\n",
    "plt.show()"
   ]
  },
  {
   "cell_type": "markdown",
   "metadata": {},
   "source": []
  },
  {
   "cell_type": "markdown",
   "metadata": {
    "id": "H0E4REmSupdT"
   },
   "source": [
    "#Neural networks: harder to train, dead neurons, black-boxes"
   ]
  },
  {
   "cell_type": "code",
   "execution_count": 117,
   "metadata": {
    "id": "UOutsiM4uypd"
   },
   "outputs": [],
   "source": [
    "class LinearRegression(nn.Module):\n",
    "    def __init__(self):\n",
    "        super(LinearRegression,self).__init__()\n",
    "        self.linear=nn.Linear(1,1)\n",
    "        self.activation=nn.ReLU()\n",
    "        self.init_weights()\n",
    "\n",
    "    def init_weights(self):\n",
    "        self.linear.weight.data.fill_(0.01)\n",
    "        self.linear.bias.data.fill_(0)\n",
    "\n",
    "    def forward(self,x):\n",
    "        x=self.linear(x)\n",
    "        x=self.activation(x)\n",
    "        return x"
   ]
  },
  {
   "cell_type": "code",
   "execution_count": 118,
   "metadata": {
    "colab": {
     "base_uri": "https://localhost:8080/"
    },
    "id": "ROCm2gb7vtml",
    "outputId": "dae58668-9594-49f0-9d59-c6b69a66dfaf"
   },
   "outputs": [
    {
     "name": "stdout",
     "output_type": "stream",
     "text": [
      "Epoch [1/100], Loss: 526.2596\n",
      "Epoch [2/100], Loss: 457.4018\n",
      "Epoch [3/100], Loss: 397.5764\n",
      "Epoch [4/100], Loss: 345.5989\n",
      "Epoch [5/100], Loss: 300.4398\n",
      "Epoch [6/100], Loss: 261.2046\n",
      "Epoch [7/100], Loss: 227.1164\n",
      "Epoch [8/100], Loss: 197.4998\n",
      "Epoch [9/100], Loss: 171.7683\n",
      "Epoch [10/100], Loss: 149.4123\n",
      "Epoch [11/100], Loss: 129.9889\n",
      "Epoch [12/100], Loss: 113.1134\n",
      "Epoch [13/100], Loss: 98.4517\n",
      "Epoch [14/100], Loss: 85.7132\n",
      "Epoch [15/100], Loss: 74.6458\n",
      "Epoch [16/100], Loss: 65.0302\n",
      "Epoch [17/100], Loss: 56.6760\n",
      "Epoch [18/100], Loss: 49.4176\n",
      "Epoch [19/100], Loss: 43.1114\n",
      "Epoch [20/100], Loss: 37.6324\n",
      "Epoch [21/100], Loss: 32.8721\n",
      "Epoch [22/100], Loss: 28.7363\n",
      "Epoch [23/100], Loss: 25.1429\n",
      "Epoch [24/100], Loss: 22.0210\n",
      "Epoch [25/100], Loss: 19.3085\n",
      "Epoch [26/100], Loss: 16.9519\n",
      "Epoch [27/100], Loss: 14.9044\n",
      "Epoch [28/100], Loss: 13.1254\n",
      "Epoch [29/100], Loss: 11.5798\n",
      "Epoch [30/100], Loss: 10.2370\n",
      "Epoch [31/100], Loss: 9.0702\n",
      "Epoch [32/100], Loss: 8.0565\n",
      "Epoch [33/100], Loss: 7.1758\n",
      "Epoch [34/100], Loss: 6.4106\n",
      "Epoch [35/100], Loss: 5.7457\n",
      "Epoch [36/100], Loss: 5.1680\n",
      "Epoch [37/100], Loss: 4.6661\n",
      "Epoch [38/100], Loss: 4.2300\n",
      "Epoch [39/100], Loss: 3.8512\n",
      "Epoch [40/100], Loss: 3.5219\n",
      "Epoch [41/100], Loss: 3.2359\n",
      "Epoch [42/100], Loss: 2.9873\n",
      "Epoch [43/100], Loss: 2.7714\n",
      "Epoch [44/100], Loss: 2.5837\n",
      "Epoch [45/100], Loss: 2.4207\n",
      "Epoch [46/100], Loss: 2.2790\n",
      "Epoch [47/100], Loss: 2.1559\n",
      "Epoch [48/100], Loss: 2.0489\n",
      "Epoch [49/100], Loss: 1.9559\n",
      "Epoch [50/100], Loss: 1.8751\n",
      "Epoch [51/100], Loss: 1.8049\n",
      "Epoch [52/100], Loss: 1.7439\n",
      "Epoch [53/100], Loss: 1.6909\n",
      "Epoch [54/100], Loss: 1.6448\n",
      "Epoch [55/100], Loss: 1.6047\n",
      "Epoch [56/100], Loss: 1.5699\n",
      "Epoch [57/100], Loss: 1.5396\n",
      "Epoch [58/100], Loss: 1.5133\n",
      "Epoch [59/100], Loss: 1.4904\n",
      "Epoch [60/100], Loss: 1.4705\n",
      "Epoch [61/100], Loss: 1.4531\n",
      "Epoch [62/100], Loss: 1.4381\n",
      "Epoch [63/100], Loss: 1.4250\n",
      "Epoch [64/100], Loss: 1.4136\n",
      "Epoch [65/100], Loss: 1.4036\n",
      "Epoch [66/100], Loss: 1.3950\n",
      "Epoch [67/100], Loss: 1.3875\n",
      "Epoch [68/100], Loss: 1.3809\n",
      "Epoch [69/100], Loss: 1.3752\n",
      "Epoch [70/100], Loss: 1.3702\n",
      "Epoch [71/100], Loss: 1.3658\n",
      "Epoch [72/100], Loss: 1.3620\n",
      "Epoch [73/100], Loss: 1.3587\n",
      "Epoch [74/100], Loss: 1.3558\n",
      "Epoch [75/100], Loss: 1.3533\n",
      "Epoch [76/100], Loss: 1.3510\n",
      "Epoch [77/100], Loss: 1.3491\n",
      "Epoch [78/100], Loss: 1.3474\n",
      "Epoch [79/100], Loss: 1.3459\n",
      "Epoch [80/100], Loss: 1.3445\n",
      "Epoch [81/100], Loss: 1.3434\n",
      "Epoch [82/100], Loss: 1.3423\n",
      "Epoch [83/100], Loss: 1.3414\n",
      "Epoch [84/100], Loss: 1.3406\n",
      "Epoch [85/100], Loss: 1.3399\n",
      "Epoch [86/100], Loss: 1.3392\n",
      "Epoch [87/100], Loss: 1.3386\n",
      "Epoch [88/100], Loss: 1.3381\n",
      "Epoch [89/100], Loss: 1.3376\n",
      "Epoch [90/100], Loss: 1.3372\n",
      "Epoch [91/100], Loss: 1.3368\n",
      "Epoch [92/100], Loss: 1.3364\n",
      "Epoch [93/100], Loss: 1.3361\n",
      "Epoch [94/100], Loss: 1.3358\n",
      "Epoch [95/100], Loss: 1.3355\n",
      "Epoch [96/100], Loss: 1.3352\n",
      "Epoch [97/100], Loss: 1.3350\n",
      "Epoch [98/100], Loss: 1.3348\n",
      "Epoch [99/100], Loss: 1.3345\n",
      "Epoch [100/100], Loss: 1.3343\n"
     ]
    }
   ],
   "source": [
    "model=LinearRegression()\n",
    "criterion=nn.MSELoss()\n",
    "optimizer=optim.SGD(model.parameters(),lr=0.001)\n",
    "\n",
    "for epoch in range(100):\n",
    "    inputs=x_train.unsqueeze(1)\n",
    "    labels=y_train.unsqueeze(1)\n",
    "    optimizer.zero_grad()\n",
    "    outputs=model(inputs)\n",
    "    loss=criterion(outputs,labels)\n",
    "    loss.backward()\n",
    "    optimizer.step()\n",
    "    print('Epoch [{}/{}], Loss: {:.4f}'.format(epoch+1,100,loss.item()))"
   ]
  },
  {
   "cell_type": "code",
   "execution_count": 119,
   "metadata": {
    "colab": {
     "base_uri": "https://localhost:8080/"
    },
    "id": "swppB-dhwcsj",
    "outputId": "8a459127-0d12-4731-cb29-ae90cbb933c3"
   },
   "outputs": [
    {
     "name": "stdout",
     "output_type": "stream",
     "text": [
      "Parameter containing:\n",
      "tensor([[3.9001]], requires_grad=True)\n",
      "Parameter containing:\n",
      "tensor([0.5510], requires_grad=True)\n"
     ]
    }
   ],
   "source": [
    "for param in model.parameters():\n",
    "    print(param)"
   ]
  },
  {
   "cell_type": "code",
   "execution_count": 122,
   "metadata": {
    "id": "sMlWsW4p3rn-"
   },
   "outputs": [],
   "source": [
    "class LinearRegression2(nn.Module):\n",
    "    def __init__(self):\n",
    "        super(LinearRegression2,self).__init__()\n",
    "        self.linear1=nn.Linear(1,10)\n",
    "        self.linear2=nn.Linear(10,10)\n",
    "        self.linear3=nn.Linear(10,10)\n",
    "        self.linear4=nn.Linear(10,1)\n",
    "\n",
    "        self.activation=nn.ReLU()\n",
    "        self.init_weights()\n",
    "\n",
    "    def init_weights(self):\n",
    "        for m in self.modules():\n",
    "            if isinstance(m,nn.Linear):\n",
    "                torch.nn.init.xavier_normal_(m.weight)\n",
    "                m.bias.data.fill_(0)\n",
    "\n",
    "    def forward(self,x):\n",
    "        x=self.linear1(x)\n",
    "        x=self.activation(x)\n",
    "        x=self.linear2(x)\n",
    "        x=self.activation(x)\n",
    "        x=self.linear3(x)\n",
    "        x=self.activation(x)\n",
    "        x=self.linear4(x)\n",
    "        x=self.activation(x)\n",
    "        return x"
   ]
  },
  {
   "cell_type": "code",
   "execution_count": 124,
   "metadata": {
    "colab": {
     "base_uri": "https://localhost:8080/"
    },
    "id": "0rw3-Gr74nmz",
    "outputId": "cf2687e8-5d06-4d5c-db71-e43e674b94b1"
   },
   "outputs": [
    {
     "name": "stdout",
     "output_type": "stream",
     "text": [
      "Epoch [1/100], Loss: 503.5899\n",
      "Epoch [2/100], Loss: 453.4569\n",
      "Epoch [3/100], Loss: 363.6775\n",
      "Epoch [4/100], Loss: 193.2069\n",
      "Epoch [5/100], Loss: 8.6709\n",
      "Epoch [6/100], Loss: 8.9867\n",
      "Epoch [7/100], Loss: 15.2199\n",
      "Epoch [8/100], Loss: 13.4180\n",
      "Epoch [9/100], Loss: 24.2504\n",
      "Epoch [10/100], Loss: 17.1556\n",
      "Epoch [11/100], Loss: 32.0394\n",
      "Epoch [12/100], Loss: 18.7002\n",
      "Epoch [13/100], Loss: 35.1846\n",
      "Epoch [14/100], Loss: 18.8457\n",
      "Epoch [15/100], Loss: 35.3277\n",
      "Epoch [16/100], Loss: 18.6431\n",
      "Epoch [17/100], Loss: 34.7380\n",
      "Epoch [18/100], Loss: 18.3939\n",
      "Epoch [19/100], Loss: 34.0642\n",
      "Epoch [20/100], Loss: 18.1489\n",
      "Epoch [21/100], Loss: 33.4137\n",
      "Epoch [22/100], Loss: 17.9156\n",
      "Epoch [23/100], Loss: 32.8002\n",
      "Epoch [24/100], Loss: 17.6940\n",
      "Epoch [25/100], Loss: 32.2227\n",
      "Epoch [26/100], Loss: 17.4833\n",
      "Epoch [27/100], Loss: 31.6781\n",
      "Epoch [28/100], Loss: 17.2826\n",
      "Epoch [29/100], Loss: 31.1631\n",
      "Epoch [30/100], Loss: 17.0910\n",
      "Epoch [31/100], Loss: 30.6751\n",
      "Epoch [32/100], Loss: 16.9077\n",
      "Epoch [33/100], Loss: 30.2114\n",
      "Epoch [34/100], Loss: 16.7321\n",
      "Epoch [35/100], Loss: 29.7702\n",
      "Epoch [36/100], Loss: 16.5636\n",
      "Epoch [37/100], Loss: 29.3495\n",
      "Epoch [38/100], Loss: 16.4016\n",
      "Epoch [39/100], Loss: 28.9475\n",
      "Epoch [40/100], Loss: 16.2456\n",
      "Epoch [41/100], Loss: 28.5629\n",
      "Epoch [42/100], Loss: 16.0953\n",
      "Epoch [43/100], Loss: 28.1944\n",
      "Epoch [44/100], Loss: 15.9503\n",
      "Epoch [45/100], Loss: 27.8408\n",
      "Epoch [46/100], Loss: 15.8102\n",
      "Epoch [47/100], Loss: 27.5011\n",
      "Epoch [48/100], Loss: 15.6747\n",
      "Epoch [49/100], Loss: 27.1744\n",
      "Epoch [50/100], Loss: 15.5435\n",
      "Epoch [51/100], Loss: 26.8597\n",
      "Epoch [52/100], Loss: 15.4165\n",
      "Epoch [53/100], Loss: 26.5564\n",
      "Epoch [54/100], Loss: 15.2932\n",
      "Epoch [55/100], Loss: 26.2637\n",
      "Epoch [56/100], Loss: 15.1736\n",
      "Epoch [57/100], Loss: 25.9809\n",
      "Epoch [58/100], Loss: 15.0575\n",
      "Epoch [59/100], Loss: 25.7076\n",
      "Epoch [60/100], Loss: 14.9446\n",
      "Epoch [61/100], Loss: 25.4431\n",
      "Epoch [62/100], Loss: 14.8349\n",
      "Epoch [63/100], Loss: 25.1871\n",
      "Epoch [64/100], Loss: 14.7281\n",
      "Epoch [65/100], Loss: 24.9390\n",
      "Epoch [66/100], Loss: 14.6241\n",
      "Epoch [67/100], Loss: 24.6985\n",
      "Epoch [68/100], Loss: 14.5228\n",
      "Epoch [69/100], Loss: 24.4651\n",
      "Epoch [70/100], Loss: 14.4241\n",
      "Epoch [71/100], Loss: 24.2385\n",
      "Epoch [72/100], Loss: 14.3274\n",
      "Epoch [73/100], Loss: 24.0176\n",
      "Epoch [74/100], Loss: 14.2333\n",
      "Epoch [75/100], Loss: 23.8033\n",
      "Epoch [76/100], Loss: 14.1416\n",
      "Epoch [77/100], Loss: 23.5950\n",
      "Epoch [78/100], Loss: 14.0520\n",
      "Epoch [79/100], Loss: 23.3925\n",
      "Epoch [80/100], Loss: 13.9645\n",
      "Epoch [81/100], Loss: 23.1953\n",
      "Epoch [82/100], Loss: 13.8789\n",
      "Epoch [83/100], Loss: 23.0032\n",
      "Epoch [84/100], Loss: 13.7953\n",
      "Epoch [85/100], Loss: 22.8160\n",
      "Epoch [86/100], Loss: 13.7136\n",
      "Epoch [87/100], Loss: 22.6336\n",
      "Epoch [88/100], Loss: 13.6336\n",
      "Epoch [89/100], Loss: 22.4556\n",
      "Epoch [90/100], Loss: 13.5553\n",
      "Epoch [91/100], Loss: 22.2821\n",
      "Epoch [92/100], Loss: 13.4786\n",
      "Epoch [93/100], Loss: 22.1130\n",
      "Epoch [94/100], Loss: 13.4035\n",
      "Epoch [95/100], Loss: 21.9476\n",
      "Epoch [96/100], Loss: 13.3300\n",
      "Epoch [97/100], Loss: 21.7861\n",
      "Epoch [98/100], Loss: 13.2579\n",
      "Epoch [99/100], Loss: 21.6282\n",
      "Epoch [100/100], Loss: 13.1872\n"
     ]
    }
   ],
   "source": [
    "model=LinearRegression2()\n",
    "criterion=nn.MSELoss()\n",
    "optimizer=optim.SGD(model.parameters(),lr=0.001)\n",
    "\n",
    "for epoch in range(100):\n",
    "    inputs=x_train.unsqueeze(1)\n",
    "    labels=y_train.unsqueeze(1)\n",
    "    optimizer.zero_grad()\n",
    "    outputs=model(inputs)\n",
    "    loss=criterion(outputs,labels)\n",
    "    loss.backward()\n",
    "    optimizer.step()\n",
    "    print('Epoch [{}/{}], Loss: {:.4f}'.format(epoch+1,100,loss.item()))"
   ]
  }
 ],
 "metadata": {
  "colab": {
   "provenance": []
  },
  "kernelspec": {
   "display_name": "Python 3",
   "name": "python3"
  },
  "language_info": {
   "name": "python"
  }
 },
 "nbformat": 4,
 "nbformat_minor": 0
}
