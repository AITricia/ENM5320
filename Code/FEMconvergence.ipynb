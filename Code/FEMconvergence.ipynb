{
  "cells": [
    {
      "cell_type": "markdown",
      "metadata": {
        "id": "view-in-github",
        "colab_type": "text"
      },
      "source": [
        "<a href=\"https://colab.research.google.com/github/natrask/ENM5320/blob/main/Code/FEMconvergence.ipynb\" target=\"_parent\"><img src=\"https://colab.research.google.com/assets/colab-badge.svg\" alt=\"Open In Colab\"/></a>"
      ]
    },
    {
      "cell_type": "markdown",
      "metadata": {
        "id": "dzqQf3pI5ueA"
      },
      "source": [
        "## Verification of the finite element problem convergence rate for Dirichlet + Neumann boundary conditions"
      ]
    },
    {
      "cell_type": "code",
      "execution_count": null,
      "metadata": {
        "id": "Ebvv2y5r5ueB"
      },
      "outputs": [],
      "source": [
        "import numpy as np\n",
        "import pandas as pd\n",
        "import seaborn as sns\n",
        "import torch\n",
        "\n",
        "import matplotlib.pyplot as plt\n",
        "import torch.nn as nn\n",
        "import torch.optim as optim\n",
        "import torch.utils.data as data\n",
        "import torchvision.transforms as transforms\n",
        "import torchvision.datasets as datasets\n",
        "\n",
        "# Set random seed for reproducibility\n",
        "np.random.seed(42)\n",
        "torch.manual_seed(42)\n",
        "\n",
        "# Check if CUDA is available and set device\n",
        "device = torch.device(\"cuda\" if torch.cuda.is_available() else \"cpu\")\n",
        "\n",
        "print(f\"Using device: {device}\")"
      ]
    },
    {
      "cell_type": "markdown",
      "metadata": {
        "id": "5stcJvGX5ueB"
      },
      "source": [
        "First we'll generate our finite element grid. I'm adding noise to the nodes - if you play with the magnitude of the noise you'll see that the theory still holds."
      ]
    },
    {
      "cell_type": "code",
      "execution_count": null,
      "metadata": {
        "id": "_IOLpSkZ5ueB"
      },
      "outputs": [],
      "source": [
        "\n",
        "# %%\n",
        "# Define points and h as needed\n",
        "meshsize= 8\n",
        "h = 1./float(meshsize-1)\n",
        "points = torch.tensor(np.linspace(0,1,meshsize), dtype=torch.float64)\n",
        "finepoints = torch.tensor(np.linspace(0,1,21*meshsize), dtype=torch.float64)\n",
        "\n",
        "def evalPhi_i(x):\n",
        "    x_expanded = torch.unsqueeze(x, 0)\n",
        "    points_expanded = torch.unsqueeze(points, 1)\n",
        "    return torch.relu(1.0 - (torch.abs(x_expanded - points_expanded)) / h)\n",
        "\n",
        "def evalGradPhi_i(x):\n",
        "    suppPhi = (evalPhi_i(x) > 0).double()\n",
        "    signPlus = (torch.unsqueeze(points, 1) > torch.unsqueeze(x, 0)).double()\n",
        "    signNeg = (torch.unsqueeze(points, 1) <= torch.unsqueeze(x, 0)).double()\n",
        "    return suppPhi * (-signPlus + signNeg) / h\n",
        "\n",
        "# Visualize shape functions and their derivatives evaluated over a fine grid\n",
        "phi_i = evalPhi_i(finepoints)\n",
        "grad_phi_i = evalGradPhi_i(finepoints)\n",
        "\n",
        "plt.plot(finepoints.numpy(), phi_i.numpy().T)\n",
        "plt.title(\"Phi_i\")\n",
        "plt.show()\n",
        "plt.figure()\n",
        "plt.plot(finepoints.numpy(), grad_phi_i.numpy().T)\n",
        "plt.title(\"Grad Phi_i\")\n",
        "plt.show()"
      ]
    },
    {
      "cell_type": "markdown",
      "metadata": {
        "id": "pmX5PvNG5ueB"
      },
      "source": [
        "Next we'll construct the stiffness matrices. To do this, we construct a two-point [Gauss-Legendre quadrature rule](https://en.wikipedia.org/wiki/Gauss%E2%80%93Legendre_quadrature), and use it to build the stiffness matrix\n",
        "\n",
        "$$S_{ij} = \\int \\phi_i' \\phi_j' dx$$"
      ]
    },
    {
      "cell_type": "code",
      "execution_count": null,
      "metadata": {
        "id": "urfjaNhT5ueC"
      },
      "outputs": [],
      "source": [
        "\n",
        "# %% Get Quadrature points\n",
        "xql = points[:-1].numpy() + h * (0.5 + 1. / (2. * np.sqrt(3)))\n",
        "xqr = points[:-1].numpy() + h * (0.5 - 1. / (2. * np.sqrt(3)))\n",
        "xq = np.concatenate([xql, xqr])\n",
        "xq = np.sort(xq)\n",
        "# Convert xq back to a tensor\n",
        "xq = torch.tensor(xq, dtype=torch.float64)\n",
        "\n",
        "# %% Construct matrices\n",
        "nodal_basisEval = evalPhi_i(xq)\n",
        "nodal_gradbasisEval = evalGradPhi_i(xq)\n",
        "Snodal = (h/2)*torch.einsum('ijq->ij', torch.unsqueeze(nodal_gradbasisEval, 0) * torch.unsqueeze(nodal_gradbasisEval, 1))"
      ]
    },
    {
      "cell_type": "markdown",
      "metadata": {
        "id": "lZ9iCqhB5ueC"
      },
      "source": [
        "Finally we build up the matrix to solve. For the Dirichlet boundary node, we eliminate the corresponding equation, and overwrite with the condition:\n",
        "$$u(0) = u_D(0) = 0$$"
      ]
    },
    {
      "cell_type": "code",
      "execution_count": null,
      "metadata": {
        "id": "a0Rzws6D5ueC"
      },
      "outputs": [],
      "source": [
        "\n",
        "# %% Construct discretization for Poisson with Dirichlet BCs on left and Neumann on right\n",
        "\n",
        "# Set up forcing function evaluated on the nodes and specify dirichlet conditions\n",
        "forcingvec = torch.ones(meshsize, dtype=torch.float64)\n",
        "forcing = (h/2)*torch.einsum('i,iq->i',forcingvec,nodal_basisEval)\n",
        "\n",
        "uLHS = 0.0\n",
        "\n",
        "# %% Build matrices\n",
        "solution_rhs = torch.cat([torch.tensor([uLHS], dtype=torch.float64), forcing[1:meshsize]], dim=0)\n",
        "solution_mat = torch.cat([\n",
        "    torch.unsqueeze(torch.nn.functional.one_hot(torch.tensor(0), meshsize).double(), 0),\n",
        "    Snodal[1:meshsize, :]\n",
        "], dim=0)\n",
        "\n",
        "\n",
        "# %% Solve the linear system and plot solution\n",
        "u_sol = torch.linalg.solve(solution_mat, solution_rhs)\n",
        "uexact = finepoints.numpy()*(-0.5*finepoints.numpy()+1.0)\n",
        "plt.plot(points.numpy(), u_sol.numpy(),'.--',label='Computed',markersize=20)\n",
        "plt.plot(finepoints.numpy(), uexact,label='Exact')\n",
        "plt.legend()\n",
        "plt.title(\"Solution\")\n",
        "plt.show()\n",
        "\n",
        "# Plot derivative of solution on quadrature points\n",
        "u_sol_grad = torch.matmul(evalGradPhi_i(xq).T, u_sol)\n",
        "plt.plot(xq.numpy(), u_sol_grad.numpy(),'.--',label='Computed',markersize=20)\n",
        "uexact_grad = -1 + finepoints.numpy()\n",
        "plt.plot(finepoints.numpy(), uexact_grad,label='Exact')\n",
        "plt.legend()\n",
        "plt.title(\"Solution Gradient\")\n",
        "plt.show()"
      ]
    },
    {
      "cell_type": "markdown",
      "metadata": {
        "id": "0fX7WYCR5ueC"
      },
      "source": [
        "Finally, lets compare this to the true solution and verify the derivation in class that\n",
        "$$ || u - u_h || \\leq C h^2 ||f|| $$\n",
        "$$ || u - u_h ||_E \\leq C h ||f|| $$\n",
        "\n",
        "We can compare against the true solution:\n",
        "$$u(x) = x (1-x/2)$$\n",
        "$$u'(x) = 1 - x $$"
      ]
    },
    {
      "cell_type": "code",
      "execution_count": null,
      "metadata": {
        "id": "_Iv_PTNV5ueC"
      },
      "outputs": [],
      "source": [
        "# Evaluate uexact and uexact' on quadrature points\n",
        "uex_q = xq.numpy()*(-0.5*xq.numpy()+1.0)\n",
        "uex_qprime = -1.+xq.numpy()\n",
        "# Evaluate solution and solution' on quadrature points\n",
        "uq = torch.matmul(nodal_basisEval.T, u_sol)\n",
        "uqprime = torch.matmul(nodal_gradbasisEval.T, u_sol)\n",
        "# Compute L2 error\n",
        "L2error = np.sqrt(h * torch.sum((uq - uex_q) ** 2))\n",
        "L2errorprime = np.sqrt(h * torch.sum((uqprime - uex_qprime) ** 2))\n",
        "print(f\"h/L2 error: {h},{L2error}\")\n",
        "print(f\"h/L2 error prime: {h},{L2errorprime}\")"
      ]
    },
    {
      "cell_type": "markdown",
      "metadata": {
        "id": "Avr8tWZe5ueC"
      },
      "source": [
        "Here is some output for rerunning the code with 4,8,16,32 nodes\n",
        "|       h              | L2err      | H1err      |\n",
        "|----------------------|------------|------------|\n",
        "| 0.3333333333333333   | 0.013094570021973223  | 0.13608276348795434  |\n",
        "| 0.14285714285714285  | 0.0024051251060773294  | 0.05832118435198045  |\n",
        "| 0.06666666666666667  | 0.000523782800877644  | 0.027216552697590875  |"
      ]
    },
    {
      "cell_type": "markdown",
      "metadata": {
        "id": "ll8pNqyh5ueC"
      },
      "source": []
    },
    {
      "cell_type": "markdown",
      "metadata": {
        "id": "3l5OrLdx5ueC"
      },
      "source": []
    }
  ],
  "metadata": {
    "kernelspec": {
      "display_name": "base",
      "language": "python",
      "name": "python3"
    },
    "language_info": {
      "codemirror_mode": {
        "name": "ipython",
        "version": 3
      },
      "file_extension": ".py",
      "mimetype": "text/x-python",
      "name": "python",
      "nbconvert_exporter": "python",
      "pygments_lexer": "ipython3",
      "version": "3.12.7"
    },
    "colab": {
      "provenance": [],
      "include_colab_link": true
    }
  },
  "nbformat": 4,
  "nbformat_minor": 0
}