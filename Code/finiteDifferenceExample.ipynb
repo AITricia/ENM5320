{
  "nbformat": 4,
  "nbformat_minor": 0,
  "metadata": {
    "colab": {
      "provenance": [],
      "authorship_tag": "ABX9TyMrBXS1wBQ6mEA+2nThRXH8",
      "include_colab_link": true
    },
    "kernelspec": {
      "name": "python3",
      "display_name": "Python 3"
    },
    "language_info": {
      "name": "python"
    }
  },
  "cells": [
    {
      "cell_type": "markdown",
      "metadata": {
        "id": "view-in-github",
        "colab_type": "text"
      },
      "source": [
        "<a href=\"https://colab.research.google.com/github/natrask/ENM5320/blob/main/Code/finiteDifferenceExample.ipynb\" target=\"_parent\"><img src=\"https://colab.research.google.com/assets/colab-badge.svg\" alt=\"Open In Colab\"/></a>"
      ]
    },
    {
      "cell_type": "code",
      "execution_count": null,
      "metadata": {
        "id": "vj4zvSIy79RE"
      },
      "outputs": [],
      "source": [
        "import numpy as np\n",
        "import matplotlib.pyplot as plt\n",
        "\n",
        "# Parameters\n",
        "L = 10.0  # Length of the domain\n",
        "T = 2.0   # Total time\n",
        "nx = 100  # Number of spatial points\n",
        "nt = 500  # Number of time steps\n",
        "alpha = 0.01  # Thermal diffusivity\n",
        "\n",
        "# Discretization\n",
        "dx = L / nx\n",
        "dt = T / nt\n",
        "x = np.linspace(0, L, nx)\n",
        "u = np.sin(2 * np.pi * x / L)  # Initial condition\n",
        "\n",
        "# Time-stepping loop\n",
        "for n in range(nt):\n",
        "    u_new = u.copy()\n",
        "    for i in range(nx):\n",
        "        u_new[i] = u[i] + alpha * 0.5 * dt / dx * (u[(i+1) % nx] - u[(i-1) % nx])\n",
        "    u = u_new\n",
        "\n",
        "# Plot the final solution\n",
        "plt.plot(x, u)\n",
        "plt.xlabel('x')\n",
        "plt.ylabel('Temperature')\n",
        "plt.title('1D Heat Equation with Periodic Boundary Conditions')\n",
        "plt.show()"
      ]
    }
  ]
}